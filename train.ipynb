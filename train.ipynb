{
  "metadata": {
    "kernelspec": {
      "display_name": "Python 3",
      "name": "python3"
    },
    "language_info": {
      "name": "python",
      "version": "3.10.12",
      "mimetype": "text/x-python",
      "codemirror_mode": {
        "name": "ipython",
        "version": 3
      },
      "pygments_lexer": "ipython3",
      "nbconvert_exporter": "python",
      "file_extension": ".py"
    },
    "colab": {
      "provenance": [],
      "gpuType": "T4"
    },
    "accelerator": "GPU",
    "widgets": {
      "application/vnd.jupyter.widget-state+json": {
        "6ba3f54633c3433996179d936a8f5611": {
          "model_module": "@jupyter-widgets/controls",
          "model_name": "HBoxModel",
          "model_module_version": "1.5.0",
          "state": {
            "_dom_classes": [],
            "_model_module": "@jupyter-widgets/controls",
            "_model_module_version": "1.5.0",
            "_model_name": "HBoxModel",
            "_view_count": null,
            "_view_module": "@jupyter-widgets/controls",
            "_view_module_version": "1.5.0",
            "_view_name": "HBoxView",
            "box_style": "",
            "children": [
              "IPY_MODEL_fdd8dcc12ff348e7815397e8b4967823",
              "IPY_MODEL_1ab9ea334a0d4186af3d9fc148085cd5",
              "IPY_MODEL_e6fa4f5eaced496f94ce08a289c6b666"
            ],
            "layout": "IPY_MODEL_4c3eb094f7544b7785b5103b7230ecf8"
          }
        },
        "fdd8dcc12ff348e7815397e8b4967823": {
          "model_module": "@jupyter-widgets/controls",
          "model_name": "HTMLModel",
          "model_module_version": "1.5.0",
          "state": {
            "_dom_classes": [],
            "_model_module": "@jupyter-widgets/controls",
            "_model_module_version": "1.5.0",
            "_model_name": "HTMLModel",
            "_view_count": null,
            "_view_module": "@jupyter-widgets/controls",
            "_view_module_version": "1.5.0",
            "_view_name": "HTMLView",
            "description": "",
            "description_tooltip": null,
            "layout": "IPY_MODEL_6b5fe3fb29854a07a560dbfcc5cfe3b8",
            "placeholder": "​",
            "style": "IPY_MODEL_2553aa4be5f84742a2a0c8b9adaa0bbd",
            "value": "Downloading (…)okenizer_config.json: 100%"
          }
        },
        "1ab9ea334a0d4186af3d9fc148085cd5": {
          "model_module": "@jupyter-widgets/controls",
          "model_name": "FloatProgressModel",
          "model_module_version": "1.5.0",
          "state": {
            "_dom_classes": [],
            "_model_module": "@jupyter-widgets/controls",
            "_model_module_version": "1.5.0",
            "_model_name": "FloatProgressModel",
            "_view_count": null,
            "_view_module": "@jupyter-widgets/controls",
            "_view_module_version": "1.5.0",
            "_view_name": "ProgressView",
            "bar_style": "success",
            "description": "",
            "description_tooltip": null,
            "layout": "IPY_MODEL_3606087d75084856bd9dcc2f0748d3a2",
            "max": 8897,
            "min": 0,
            "orientation": "horizontal",
            "style": "IPY_MODEL_5b01537e7c7b4f5b8f9eeaaee0b3ce2a",
            "value": 8897
          }
        },
        "e6fa4f5eaced496f94ce08a289c6b666": {
          "model_module": "@jupyter-widgets/controls",
          "model_name": "HTMLModel",
          "model_module_version": "1.5.0",
          "state": {
            "_dom_classes": [],
            "_model_module": "@jupyter-widgets/controls",
            "_model_module_version": "1.5.0",
            "_model_name": "HTMLModel",
            "_view_count": null,
            "_view_module": "@jupyter-widgets/controls",
            "_view_module_version": "1.5.0",
            "_view_name": "HTMLView",
            "description": "",
            "description_tooltip": null,
            "layout": "IPY_MODEL_f7544a1e7d464077b2e2a537f21fe714",
            "placeholder": "​",
            "style": "IPY_MODEL_b2a8aaf4aeb4412ea9813def599eb635",
            "value": " 8.90k/8.90k [00:00&lt;00:00, 225kB/s]"
          }
        },
        "4c3eb094f7544b7785b5103b7230ecf8": {
          "model_module": "@jupyter-widgets/base",
          "model_name": "LayoutModel",
          "model_module_version": "1.2.0",
          "state": {
            "_model_module": "@jupyter-widgets/base",
            "_model_module_version": "1.2.0",
            "_model_name": "LayoutModel",
            "_view_count": null,
            "_view_module": "@jupyter-widgets/base",
            "_view_module_version": "1.2.0",
            "_view_name": "LayoutView",
            "align_content": null,
            "align_items": null,
            "align_self": null,
            "border": null,
            "bottom": null,
            "display": null,
            "flex": null,
            "flex_flow": null,
            "grid_area": null,
            "grid_auto_columns": null,
            "grid_auto_flow": null,
            "grid_auto_rows": null,
            "grid_column": null,
            "grid_gap": null,
            "grid_row": null,
            "grid_template_areas": null,
            "grid_template_columns": null,
            "grid_template_rows": null,
            "height": null,
            "justify_content": null,
            "justify_items": null,
            "left": null,
            "margin": null,
            "max_height": null,
            "max_width": null,
            "min_height": null,
            "min_width": null,
            "object_fit": null,
            "object_position": null,
            "order": null,
            "overflow": null,
            "overflow_x": null,
            "overflow_y": null,
            "padding": null,
            "right": null,
            "top": null,
            "visibility": null,
            "width": null
          }
        },
        "6b5fe3fb29854a07a560dbfcc5cfe3b8": {
          "model_module": "@jupyter-widgets/base",
          "model_name": "LayoutModel",
          "model_module_version": "1.2.0",
          "state": {
            "_model_module": "@jupyter-widgets/base",
            "_model_module_version": "1.2.0",
            "_model_name": "LayoutModel",
            "_view_count": null,
            "_view_module": "@jupyter-widgets/base",
            "_view_module_version": "1.2.0",
            "_view_name": "LayoutView",
            "align_content": null,
            "align_items": null,
            "align_self": null,
            "border": null,
            "bottom": null,
            "display": null,
            "flex": null,
            "flex_flow": null,
            "grid_area": null,
            "grid_auto_columns": null,
            "grid_auto_flow": null,
            "grid_auto_rows": null,
            "grid_column": null,
            "grid_gap": null,
            "grid_row": null,
            "grid_template_areas": null,
            "grid_template_columns": null,
            "grid_template_rows": null,
            "height": null,
            "justify_content": null,
            "justify_items": null,
            "left": null,
            "margin": null,
            "max_height": null,
            "max_width": null,
            "min_height": null,
            "min_width": null,
            "object_fit": null,
            "object_position": null,
            "order": null,
            "overflow": null,
            "overflow_x": null,
            "overflow_y": null,
            "padding": null,
            "right": null,
            "top": null,
            "visibility": null,
            "width": null
          }
        },
        "2553aa4be5f84742a2a0c8b9adaa0bbd": {
          "model_module": "@jupyter-widgets/controls",
          "model_name": "DescriptionStyleModel",
          "model_module_version": "1.5.0",
          "state": {
            "_model_module": "@jupyter-widgets/controls",
            "_model_module_version": "1.5.0",
            "_model_name": "DescriptionStyleModel",
            "_view_count": null,
            "_view_module": "@jupyter-widgets/base",
            "_view_module_version": "1.2.0",
            "_view_name": "StyleView",
            "description_width": ""
          }
        },
        "3606087d75084856bd9dcc2f0748d3a2": {
          "model_module": "@jupyter-widgets/base",
          "model_name": "LayoutModel",
          "model_module_version": "1.2.0",
          "state": {
            "_model_module": "@jupyter-widgets/base",
            "_model_module_version": "1.2.0",
            "_model_name": "LayoutModel",
            "_view_count": null,
            "_view_module": "@jupyter-widgets/base",
            "_view_module_version": "1.2.0",
            "_view_name": "LayoutView",
            "align_content": null,
            "align_items": null,
            "align_self": null,
            "border": null,
            "bottom": null,
            "display": null,
            "flex": null,
            "flex_flow": null,
            "grid_area": null,
            "grid_auto_columns": null,
            "grid_auto_flow": null,
            "grid_auto_rows": null,
            "grid_column": null,
            "grid_gap": null,
            "grid_row": null,
            "grid_template_areas": null,
            "grid_template_columns": null,
            "grid_template_rows": null,
            "height": null,
            "justify_content": null,
            "justify_items": null,
            "left": null,
            "margin": null,
            "max_height": null,
            "max_width": null,
            "min_height": null,
            "min_width": null,
            "object_fit": null,
            "object_position": null,
            "order": null,
            "overflow": null,
            "overflow_x": null,
            "overflow_y": null,
            "padding": null,
            "right": null,
            "top": null,
            "visibility": null,
            "width": null
          }
        },
        "5b01537e7c7b4f5b8f9eeaaee0b3ce2a": {
          "model_module": "@jupyter-widgets/controls",
          "model_name": "ProgressStyleModel",
          "model_module_version": "1.5.0",
          "state": {
            "_model_module": "@jupyter-widgets/controls",
            "_model_module_version": "1.5.0",
            "_model_name": "ProgressStyleModel",
            "_view_count": null,
            "_view_module": "@jupyter-widgets/base",
            "_view_module_version": "1.2.0",
            "_view_name": "StyleView",
            "bar_color": null,
            "description_width": ""
          }
        },
        "f7544a1e7d464077b2e2a537f21fe714": {
          "model_module": "@jupyter-widgets/base",
          "model_name": "LayoutModel",
          "model_module_version": "1.2.0",
          "state": {
            "_model_module": "@jupyter-widgets/base",
            "_model_module_version": "1.2.0",
            "_model_name": "LayoutModel",
            "_view_count": null,
            "_view_module": "@jupyter-widgets/base",
            "_view_module_version": "1.2.0",
            "_view_name": "LayoutView",
            "align_content": null,
            "align_items": null,
            "align_self": null,
            "border": null,
            "bottom": null,
            "display": null,
            "flex": null,
            "flex_flow": null,
            "grid_area": null,
            "grid_auto_columns": null,
            "grid_auto_flow": null,
            "grid_auto_rows": null,
            "grid_column": null,
            "grid_gap": null,
            "grid_row": null,
            "grid_template_areas": null,
            "grid_template_columns": null,
            "grid_template_rows": null,
            "height": null,
            "justify_content": null,
            "justify_items": null,
            "left": null,
            "margin": null,
            "max_height": null,
            "max_width": null,
            "min_height": null,
            "min_width": null,
            "object_fit": null,
            "object_position": null,
            "order": null,
            "overflow": null,
            "overflow_x": null,
            "overflow_y": null,
            "padding": null,
            "right": null,
            "top": null,
            "visibility": null,
            "width": null
          }
        },
        "b2a8aaf4aeb4412ea9813def599eb635": {
          "model_module": "@jupyter-widgets/controls",
          "model_name": "DescriptionStyleModel",
          "model_module_version": "1.5.0",
          "state": {
            "_model_module": "@jupyter-widgets/controls",
            "_model_module_version": "1.5.0",
            "_model_name": "DescriptionStyleModel",
            "_view_count": null,
            "_view_module": "@jupyter-widgets/base",
            "_view_module_version": "1.2.0",
            "_view_name": "StyleView",
            "description_width": ""
          }
        }
      }
    }
  },
  "nbformat_minor": 0,
  "nbformat": 4,
  "cells": [
    {
      "cell_type": "markdown",
      "source": [
        "# Краткое описание решения:\n",
        "1. создание target для тренировочных данных (последовательность из 0 и 1, длины 40, 1 - стоит на месте гласной буквы)\n",
        "2. применение лемматизации\n",
        "3. токенизация\n",
        "4. создание датасета, состоящего из слова(без ударения), леммы слова, для train - с target\n",
        "5. инициализация и обучение модели\n",
        "    StressModel(\n",
        "        (lstm_layer_1): Sequential(\n",
        "                  (0): Embedding(658, 70)\n",
        "                  (1): LSTM(70, 110, num_layers=2, batch_first=True, bidirectional=True)\n",
        "                  )\n",
        "        (lstm_layer_2): Sequential(\n",
        "                  (0): Embedding(658, 70)\n",
        "                  (1): LSTM(70, 110, num_layers=2, batch_first=True, bidirectional=True)\n",
        "                  )\n",
        "        (fc): Linear(in_features=440, out_features=1, bias=True)\n",
        "        (dropout): Dropout(p=0.05, inplace=False)\n",
        "    )\n",
        "6. количество параметров - 997201 < 1000000\n",
        "7. сохранение модели - best_model(70-110).pth"
      ],
      "metadata": {
        "id": "aCV2kaqxd7UQ"
      }
    },
    {
      "cell_type": "code",
      "source": [
        "from google.colab import drive\n",
        "drive.mount('/content/drive')"
      ],
      "metadata": {
        "colab": {
          "base_uri": "https://localhost:8080/"
        },
        "id": "EagslB-GeDH8",
        "outputId": "e7a0a9ed-21b5-4aba-d4de-5fbb209c447c"
      },
      "execution_count": null,
      "outputs": [
        {
          "output_type": "stream",
          "name": "stdout",
          "text": [
            "Mounted at /content/drive\n"
          ]
        }
      ]
    },
    {
      "cell_type": "code",
      "source": [
        "!pip install transformers pymystem3 git+https://github.com/Koziev/character-tokenizer -q"
      ],
      "metadata": {
        "id": "nijMHyoadyKj",
        "outputId": "aecbd231-2e8a-4871-d881-ba2c2a08fdc6",
        "execution": {
          "iopub.status.busy": "2023-09-28T09:44:05.937819Z",
          "iopub.execute_input": "2023-09-28T09:44:05.938585Z",
          "iopub.status.idle": "2023-09-28T09:44:27.568500Z",
          "shell.execute_reply.started": "2023-09-28T09:44:05.938545Z",
          "shell.execute_reply": "2023-09-28T09:44:27.567273Z"
        },
        "trusted": true,
        "colab": {
          "base_uri": "https://localhost:8080/"
        }
      },
      "execution_count": null,
      "outputs": [
        {
          "output_type": "stream",
          "name": "stdout",
          "text": [
            "  Preparing metadata (setup.py) ... \u001b[?25l\u001b[?25hdone\n",
            "\u001b[2K     \u001b[90m━━━━━━━━━━━━━━━━━━━━━━━━━━━━━━━━━━━━━━━━\u001b[0m \u001b[32m7.6/7.6 MB\u001b[0m \u001b[31m14.5 MB/s\u001b[0m eta \u001b[36m0:00:00\u001b[0m\n",
            "\u001b[2K     \u001b[90m━━━━━━━━━━━━━━━━━━━━━━━━━━━━━━━━━━━━━━\u001b[0m \u001b[32m295.0/295.0 kB\u001b[0m \u001b[31m29.7 MB/s\u001b[0m eta \u001b[36m0:00:00\u001b[0m\n",
            "\u001b[2K     \u001b[90m━━━━━━━━━━━━━━━━━━━━━━━━━━━━━━━━━━━━━━━━\u001b[0m \u001b[32m7.8/7.8 MB\u001b[0m \u001b[31m89.0 MB/s\u001b[0m eta \u001b[36m0:00:00\u001b[0m\n",
            "\u001b[2K     \u001b[90m━━━━━━━━━━━━━━━━━━━━━━━━━━━━━━━━━━━━━━━━\u001b[0m \u001b[32m1.3/1.3 MB\u001b[0m \u001b[31m69.2 MB/s\u001b[0m eta \u001b[36m0:00:00\u001b[0m\n",
            "\u001b[?25h  Building wheel for charactertokenizer (setup.py) ... \u001b[?25l\u001b[?25hdone\n"
          ]
        }
      ]
    },
    {
      "cell_type": "code",
      "source": [
        "import charactertokenizer\n",
        "import pandas as pd\n",
        "import numpy as np\n",
        "from tqdm import tqdm\n",
        "tqdm.pandas()\n",
        "\n",
        "import re\n",
        "from sklearn.model_selection import train_test_split\n",
        "from pymystem3 import Mystem\n",
        "\n",
        "import torch\n",
        "import torch.nn as nn\n",
        "import torch.functional as F\n",
        "from torch.autograd import Variable\n",
        "from torch.utils.data import Dataset, DataLoader\n",
        "from torch.optim import lr_scheduler\n",
        "from sklearn.metrics import f1_score, precision_score, recall_score"
      ],
      "metadata": {
        "id": "dlsGRacuP6KR",
        "execution": {
          "iopub.status.busy": "2023-09-28T09:44:27.571020Z",
          "iopub.execute_input": "2023-09-28T09:44:27.571337Z",
          "iopub.status.idle": "2023-09-28T09:44:36.387402Z",
          "shell.execute_reply.started": "2023-09-28T09:44:27.571308Z",
          "shell.execute_reply": "2023-09-28T09:44:36.386406Z"
        },
        "trusted": true
      },
      "execution_count": null,
      "outputs": []
    },
    {
      "cell_type": "code",
      "source": [
        "vowels = 'аеёиоуыэюя'\n",
        "BATCH_SIZE = 128\n",
        "epochs = 9"
      ],
      "metadata": {
        "id": "k_oP81bbeN_0",
        "execution": {
          "iopub.status.busy": "2023-09-28T09:44:36.389023Z",
          "iopub.execute_input": "2023-09-28T09:44:36.389601Z",
          "iopub.status.idle": "2023-09-28T09:44:36.394844Z",
          "shell.execute_reply.started": "2023-09-28T09:44:36.389562Z",
          "shell.execute_reply": "2023-09-28T09:44:36.393693Z"
        },
        "trusted": true
      },
      "execution_count": null,
      "outputs": []
    },
    {
      "cell_type": "code",
      "source": [
        "def without_stress(text):\n",
        "    text = re.sub(r'\\^', '', text)\n",
        "    return text\n"
      ],
      "metadata": {
        "id": "iXZbSKSRdjnj",
        "execution": {
          "iopub.status.busy": "2023-09-28T09:44:36.397747Z",
          "iopub.execute_input": "2023-09-28T09:44:36.398100Z",
          "iopub.status.idle": "2023-09-28T09:44:36.418680Z",
          "shell.execute_reply.started": "2023-09-28T09:44:36.398068Z",
          "shell.execute_reply": "2023-09-28T09:44:36.417807Z"
        },
        "trusted": true
      },
      "execution_count": null,
      "outputs": []
    },
    {
      "cell_type": "code",
      "source": [
        "def word_to_target(word, max_len=40):\n",
        "    target = []\n",
        "    for i, char in enumerate(word):\n",
        "        if char == '^':\n",
        "            target[-1] = '1'\n",
        "        else:\n",
        "            target.append('0')\n",
        "\n",
        "    while len(target) < max_len:\n",
        "        target.append('0')\n",
        "\n",
        "    return ''.join(target)"
      ],
      "metadata": {
        "execution": {
          "iopub.status.busy": "2023-09-28T09:44:36.420611Z",
          "iopub.execute_input": "2023-09-28T09:44:36.421002Z",
          "iopub.status.idle": "2023-09-28T09:44:36.433169Z",
          "shell.execute_reply.started": "2023-09-28T09:44:36.420971Z",
          "shell.execute_reply": "2023-09-28T09:44:36.432212Z"
        },
        "trusted": true,
        "id": "aIyN_bA5d7Ua"
      },
      "execution_count": null,
      "outputs": []
    },
    {
      "cell_type": "code",
      "source": [
        "data_train = pd.read_csv('/content/drive/MyDrive/rucode final/train_stresses_labels.txt', header=None)\n",
        "# data_test = pd.read_csv('/content/drive/MyDrive/rucode final/private_test_stresses.txt', header=None)\n",
        "\n",
        "data_train.columns = ['Stressed']\n",
        "# data_test.columns = ['without_stress']\n",
        "\n",
        "data_train['without_stress'] = data_train['Stressed'].progress_apply(without_stress)\n",
        "data_train['target'] = data_train['Stressed'].progress_apply(word_to_target)"
      ],
      "metadata": {
        "id": "rlY_qbJKPmQC",
        "outputId": "44b5c832-ccfe-4b74-d1a2-de9be37e2470",
        "execution": {
          "iopub.status.busy": "2023-09-28T09:44:36.435707Z",
          "iopub.execute_input": "2023-09-28T09:44:36.435971Z",
          "iopub.status.idle": "2023-09-28T09:44:45.898464Z",
          "shell.execute_reply.started": "2023-09-28T09:44:36.435948Z",
          "shell.execute_reply": "2023-09-28T09:44:45.897361Z"
        },
        "trusted": true,
        "colab": {
          "base_uri": "https://localhost:8080/"
        }
      },
      "execution_count": null,
      "outputs": [
        {
          "output_type": "stream",
          "name": "stderr",
          "text": [
            "100%|██████████| 588490/588490 [00:01<00:00, 363363.48it/s]\n",
            "100%|██████████| 588490/588490 [00:04<00:00, 138292.81it/s]\n"
          ]
        }
      ]
    },
    {
      "cell_type": "markdown",
      "source": [
        "# Лемматизация"
      ],
      "metadata": {
        "id": "bahwSligd7Ub"
      }
    },
    {
      "cell_type": "code",
      "source": [
        "mystem = Mystem()\n",
        "\n",
        "def preprocess_text(text):\n",
        "    token = mystem.lemmatize(text)[0]\n",
        "    return token"
      ],
      "metadata": {
        "execution": {
          "iopub.status.busy": "2023-09-28T09:44:45.900105Z",
          "iopub.execute_input": "2023-09-28T09:44:45.900496Z",
          "iopub.status.idle": "2023-09-28T09:44:50.468689Z",
          "shell.execute_reply.started": "2023-09-28T09:44:45.900461Z",
          "shell.execute_reply": "2023-09-28T09:44:50.467682Z"
        },
        "trusted": true,
        "colab": {
          "base_uri": "https://localhost:8080/"
        },
        "id": "v5K9I8Sud7Ub",
        "outputId": "317b3291-dc1f-4e27-cde4-0ac7cdd3f31e"
      },
      "execution_count": null,
      "outputs": [
        {
          "output_type": "stream",
          "name": "stderr",
          "text": [
            "Installing mystem to /root/.local/bin/mystem from http://download.cdn.yandex.net/mystem/mystem-3.1-linux-64bit.tar.gz\n"
          ]
        }
      ]
    },
    {
      "cell_type": "code",
      "source": [
        "data_train['lemma'] = data_train['without_stress'].progress_apply(preprocess_text)\n",
        "# data_test['lemma'] = data_test['without_stress'].progress_apply(preprocess_text)"
      ],
      "metadata": {
        "execution": {
          "iopub.status.busy": "2023-09-28T09:44:50.470251Z",
          "iopub.execute_input": "2023-09-28T09:44:50.470602Z",
          "iopub.status.idle": "2023-09-28T09:46:20.532983Z",
          "shell.execute_reply.started": "2023-09-28T09:44:50.470567Z",
          "shell.execute_reply": "2023-09-28T09:46:20.530959Z"
        },
        "trusted": true,
        "colab": {
          "base_uri": "https://localhost:8080/"
        },
        "id": "manwSu5Md7Uc",
        "outputId": "6ea87880-e649-402c-93e1-2ffe1ba47a34"
      },
      "execution_count": null,
      "outputs": [
        {
          "output_type": "stream",
          "name": "stderr",
          "text": [
            "100%|██████████| 588490/588490 [01:00<00:00, 9763.35it/s] \n",
            "100%|██████████| 294252/294252 [00:28<00:00, 10336.46it/s]\n"
          ]
        }
      ]
    },
    {
      "cell_type": "markdown",
      "source": [
        "# Dataset Dataloader"
      ],
      "metadata": {
        "id": "hG5zGyOrd7Uc"
      }
    },
    {
      "cell_type": "code",
      "source": [
        "class CustomDataset(Dataset):\n",
        "    def __init__(self, without_stress, lemma, targets=None, max_length=40):\n",
        "\n",
        "        self.tokenizer = charactertokenizer.CharacterTokenizer.from_pretrained('inkoziev/charllama-35M')\n",
        "        self.max_length = max_length\n",
        "\n",
        "        without_stress = [str(item) for item in without_stress]\n",
        "        self.without_stress = self.tokenizer(without_stress, return_tensors='pt', padding='max_length', max_length=max_length, truncation=True)[\"input_ids\"]\n",
        "\n",
        "        lemmas = [str(item) for item in lemma]\n",
        "        self.lemmas = self.tokenizer(lemmas, return_tensors='pt', padding='max_length', max_length=max_length, truncation=True)[\"input_ids\"]\n",
        "\n",
        "        if targets is not None:\n",
        "            targets_int = [torch.tensor([int(digit) for digit in target]) for target in targets]\n",
        "            targets_tensor = torch.stack(targets_int)\n",
        "            self.targets = targets_tensor.numpy()\n",
        "\n",
        "        else:\n",
        "            self.targets = None\n",
        "\n",
        "    def __len__(self):\n",
        "        return len(self.without_stress)\n",
        "\n",
        "    def __getitem__(self, idx):\n",
        "        if self.targets is not None:\n",
        "            return (self.without_stress[idx], self.lemmas[idx]), self.targets[idx]\n",
        "        else:\n",
        "            return (self.without_stress[idx], self.lemmas[idx])"
      ],
      "metadata": {
        "execution": {
          "iopub.status.busy": "2023-09-28T09:46:20.534658Z",
          "iopub.execute_input": "2023-09-28T09:46:20.535139Z",
          "iopub.status.idle": "2023-09-28T09:46:20.547725Z",
          "shell.execute_reply.started": "2023-09-28T09:46:20.535100Z",
          "shell.execute_reply": "2023-09-28T09:46:20.546650Z"
        },
        "trusted": true,
        "id": "FxkCFyuOd7Uc"
      },
      "execution_count": null,
      "outputs": []
    },
    {
      "cell_type": "code",
      "source": [
        "shuffled_df = data_train.sample(frac=1).reset_index(drop=True)\n",
        "train = shuffled_df.copy()\n",
        "# train, valid = train_test_split(shuffled_df, random_state=42, shuffle=True, train_size=0.7) # для оценки на валидационной выборке - раскомментировать"
      ],
      "metadata": {
        "execution": {
          "iopub.status.busy": "2023-09-28T10:15:43.207598Z",
          "iopub.execute_input": "2023-09-28T10:15:43.208010Z",
          "iopub.status.idle": "2023-09-28T10:15:43.802332Z",
          "shell.execute_reply.started": "2023-09-28T10:15:43.207977Z",
          "shell.execute_reply": "2023-09-28T10:15:43.801324Z"
        },
        "trusted": true,
        "id": "iAluzJdMd7Ud"
      },
      "execution_count": null,
      "outputs": []
    },
    {
      "cell_type": "code",
      "source": [
        "train_dataset = CustomDataset(train['without_stress'].values, train['lemma'].values, train['target'].values)\n",
        "# valid_dataset = CustomDataset(valid['without_stress'].values, valid['lemma'].values, valid['target'].values) # для оценки на валидационной выборке - раскомментировать\n",
        "# test_dataset = CustomDataset(data_test['without_stress'].values, data_test['lemma'].values)"
      ],
      "metadata": {
        "execution": {
          "iopub.status.busy": "2023-09-28T10:15:48.663867Z",
          "iopub.execute_input": "2023-09-28T10:15:48.664240Z",
          "iopub.status.idle": "2023-09-28T10:18:17.499482Z",
          "shell.execute_reply.started": "2023-09-28T10:15:48.664205Z",
          "shell.execute_reply": "2023-09-28T10:18:17.498251Z"
        },
        "trusted": true,
        "id": "50WjPJAEd7Ud",
        "colab": {
          "base_uri": "https://localhost:8080/",
          "height": 49,
          "referenced_widgets": [
            "6ba3f54633c3433996179d936a8f5611",
            "fdd8dcc12ff348e7815397e8b4967823",
            "1ab9ea334a0d4186af3d9fc148085cd5",
            "e6fa4f5eaced496f94ce08a289c6b666",
            "4c3eb094f7544b7785b5103b7230ecf8",
            "6b5fe3fb29854a07a560dbfcc5cfe3b8",
            "2553aa4be5f84742a2a0c8b9adaa0bbd",
            "3606087d75084856bd9dcc2f0748d3a2",
            "5b01537e7c7b4f5b8f9eeaaee0b3ce2a",
            "f7544a1e7d464077b2e2a537f21fe714",
            "b2a8aaf4aeb4412ea9813def599eb635"
          ]
        },
        "outputId": "70b4d396-1255-4291-a756-73263f2ec861"
      },
      "execution_count": null,
      "outputs": [
        {
          "output_type": "display_data",
          "data": {
            "text/plain": [
              "Downloading (…)okenizer_config.json:   0%|          | 0.00/8.90k [00:00<?, ?B/s]"
            ],
            "application/vnd.jupyter.widget-view+json": {
              "version_major": 2,
              "version_minor": 0,
              "model_id": "6ba3f54633c3433996179d936a8f5611"
            }
          },
          "metadata": {}
        }
      ]
    },
    {
      "cell_type": "code",
      "source": [
        "train_dataloader = DataLoader(train_dataset, batch_size=BATCH_SIZE, shuffle=True)\n",
        "# valid_dataloader = DataLoader(valid_dataset, batch_size=BATCH_SIZE, shuffle=False) # для оценки на валидационной выборке - раскомментировать\n",
        "# test_dataloader = DataLoader(test_dataset, batch_size=BATCH_SIZE, shuffle=False)"
      ],
      "metadata": {
        "execution": {
          "iopub.status.busy": "2023-09-28T10:18:17.502057Z",
          "iopub.execute_input": "2023-09-28T10:18:17.502592Z",
          "iopub.status.idle": "2023-09-28T10:18:17.538308Z",
          "shell.execute_reply.started": "2023-09-28T10:18:17.502551Z",
          "shell.execute_reply": "2023-09-28T10:18:17.537237Z"
        },
        "trusted": true,
        "id": "n9Vo4BzLd7Ud"
      },
      "execution_count": null,
      "outputs": []
    },
    {
      "cell_type": "code",
      "source": [
        "class StressModel(nn.Module):\n",
        "    def __init__(self, vocab_size, embedding_dim, hidden_dim):\n",
        "        super(StressModel, self).__init__()\n",
        "\n",
        "        self.lstm_layer_1 = nn.Sequential(\n",
        "            nn.Embedding(vocab_size, embedding_dim),\n",
        "            nn.LSTM(embedding_dim, hidden_dim, batch_first=True, bidirectional=True, num_layers=2), # увеличение num_layers не дало результатов\n",
        "        )\n",
        "\n",
        "        self.lstm_layer_2 = nn.Sequential(\n",
        "            nn.Embedding(vocab_size, embedding_dim),\n",
        "            nn.LSTM(embedding_dim, hidden_dim, batch_first=True, bidirectional=True, num_layers=2), # увеличение num_layers не дало результатов\n",
        "        )\n",
        "\n",
        "        self.fc = nn.Linear(hidden_dim * 4, 1)\n",
        "        self.dropout = nn.Dropout(0.05) # возможно нужно увеличить Dropout\n",
        "\n",
        "\n",
        "    def forward(self, batch):\n",
        "        stress, lemma = batch\n",
        "        stress, lemma = stress.to(device), lemma.to(device)\n",
        "\n",
        "        stress_batch, _ = self.lstm_layer_1(stress)\n",
        "        stress_out = self.dropout(stress_batch)\n",
        "\n",
        "        lemma_batch, _ = self.lstm_layer_2(lemma)\n",
        "        lemma_out = self.dropout(lemma_batch)\n",
        "\n",
        "        combined_tensor = torch.cat([stress_out, lemma_out], dim=2)\n",
        "        output = self.fc(combined_tensor)\n",
        "        return output"
      ],
      "metadata": {
        "execution": {
          "iopub.status.busy": "2023-09-28T10:53:16.425569Z",
          "iopub.execute_input": "2023-09-28T10:53:16.425951Z",
          "iopub.status.idle": "2023-09-28T10:53:16.443335Z",
          "shell.execute_reply.started": "2023-09-28T10:53:16.425921Z",
          "shell.execute_reply": "2023-09-28T10:53:16.442212Z"
        },
        "trusted": true,
        "id": "NVJiNcptd7Ud"
      },
      "execution_count": null,
      "outputs": []
    },
    {
      "cell_type": "code",
      "source": [
        "device = torch.device(\"cuda:0\" if torch.cuda.is_available() else \"cpu\")\n",
        "print(device)"
      ],
      "metadata": {
        "execution": {
          "iopub.status.busy": "2023-09-28T10:53:16.725251Z",
          "iopub.execute_input": "2023-09-28T10:53:16.726745Z",
          "iopub.status.idle": "2023-09-28T10:53:16.732251Z",
          "shell.execute_reply.started": "2023-09-28T10:53:16.726703Z",
          "shell.execute_reply": "2023-09-28T10:53:16.731214Z"
        },
        "trusted": true,
        "colab": {
          "base_uri": "https://localhost:8080/"
        },
        "id": "U1P0fMhPd7Ud",
        "outputId": "383c0830-279a-409b-c8ef-2ff5ee80069b"
      },
      "execution_count": null,
      "outputs": [
        {
          "output_type": "stream",
          "name": "stdout",
          "text": [
            "cuda:0\n"
          ]
        }
      ]
    },
    {
      "cell_type": "code",
      "source": [
        "model = StressModel(vocab_size=658, embedding_dim=70, hidden_dim=110).to(device) # private_best = 70, 110\n",
        "\n",
        "criterion = nn.BCEWithLogitsLoss()\n",
        "optimizer = torch.optim.AdamW(model.parameters())\n",
        "scheduler = torch.optim.lr_scheduler.StepLR(optimizer, step_size=2, gamma=0.7) # gamma=0.7"
      ],
      "metadata": {
        "execution": {
          "iopub.status.busy": "2023-09-28T10:56:15.587804Z",
          "iopub.execute_input": "2023-09-28T10:56:15.588372Z",
          "iopub.status.idle": "2023-09-28T10:56:15.621438Z",
          "shell.execute_reply.started": "2023-09-28T10:56:15.588331Z",
          "shell.execute_reply": "2023-09-28T10:56:15.620522Z"
        },
        "trusted": true,
        "id": "6ktvBFrqd7Ue"
      },
      "execution_count": null,
      "outputs": []
    },
    {
      "cell_type": "code",
      "source": [
        "params_count = sum(p.numel() for p in model.parameters() if p.requires_grad)\n",
        "\n",
        "print(f'Number of trainable parameters: {params_count}')"
      ],
      "metadata": {
        "execution": {
          "iopub.status.busy": "2023-09-28T10:56:23.024659Z",
          "iopub.execute_input": "2023-09-28T10:56:23.025019Z",
          "iopub.status.idle": "2023-09-28T10:56:23.031569Z",
          "shell.execute_reply.started": "2023-09-28T10:56:23.024989Z",
          "shell.execute_reply": "2023-09-28T10:56:23.030050Z"
        },
        "trusted": true,
        "colab": {
          "base_uri": "https://localhost:8080/"
        },
        "id": "AtMYLPtsd7Ue",
        "outputId": "42ca10e1-e695-42b8-acb6-b7c58eab4e57"
      },
      "execution_count": null,
      "outputs": [
        {
          "output_type": "stream",
          "name": "stdout",
          "text": [
            "Number of trainable parameters: 997201\n"
          ]
        }
      ]
    },
    {
      "cell_type": "code",
      "source": [
        "# ---  Post process  ---\n",
        "def post_process_output(outputs):\n",
        "    \"\"\"Convert the outputs into a one-hot format with a single '1' for the max value.\"\"\"\n",
        "    max_indices = outputs.argmax(dim=1)\n",
        "    one_hot = torch.zeros_like(outputs)\n",
        "    one_hot[torch.arange(outputs.size(0)), max_indices] = 1.0\n",
        "    return one_hot.float()\n",
        "\n",
        "def train_model(model, dataloader, optimizer, criterion, device):\n",
        "    model.train()\n",
        "    total_loss = 0\n",
        "    correct_ones = 0\n",
        "    total_ones = 0\n",
        "\n",
        "    all_predictions = []\n",
        "    all_targets = []\n",
        "\n",
        "    for inputs, targets in tqdm(dataloader):\n",
        "#         inputs, targets = inputs.to(device), targets.to(device)\n",
        "        targets = targets.to(device)\n",
        "        optimizer.zero_grad()\n",
        "\n",
        "        outputs = model(inputs).squeeze(2)\n",
        "        loss = criterion(outputs, targets.float())\n",
        "        loss.backward()\n",
        "\n",
        "        optimizer.step()\n",
        "        total_loss += loss.item()\n",
        "\n",
        "        predicted = post_process_output(outputs)\n",
        "\n",
        "        correct_ones += ((predicted == targets) & (targets == 1)).sum().item()\n",
        "        total_ones += (targets == 1).sum().item()\n",
        "\n",
        "        all_predictions.extend(predicted.detach().cpu().numpy().ravel())\n",
        "        all_targets.extend(targets.detach().cpu().numpy().ravel())\n",
        "\n",
        "    scheduler.step()\n",
        "\n",
        "    accuracy_ones = 100 * correct_ones / total_ones if total_ones != 0 else 0\n",
        "    # f1 = f1_score(all_targets, all_predictions)\n",
        "    # precision = precision_score(all_targets, all_predictions)\n",
        "    # recall = recall_score(all_targets, all_predictions)\n",
        "    return total_loss / len(dataloader), accuracy_ones\n",
        "\n",
        "def test_model(model, dataloader, criterion, device):\n",
        "    model.eval()\n",
        "    total_loss = 0\n",
        "    correct_ones = 0\n",
        "    total_ones = 0\n",
        "\n",
        "    all_predictions = []\n",
        "    all_targets = []\n",
        "\n",
        "    with torch.no_grad():\n",
        "        for inputs, targets in dataloader:\n",
        "#             inputs, targets = inputs.to(device), targets.to(device)\n",
        "            targets = targets.to(device)\n",
        "\n",
        "            outputs = model(inputs).squeeze(2)\n",
        "            loss = criterion(outputs, targets.float())\n",
        "            total_loss += loss.item()\n",
        "\n",
        "            predicted = post_process_output(outputs)\n",
        "\n",
        "            correct_ones += ((predicted == targets) & (targets == 1)).sum().item()\n",
        "            total_ones += (targets == 1).sum().item()\n",
        "\n",
        "            all_predictions.extend(predicted.detach().cpu().numpy().ravel())\n",
        "            all_targets.extend(targets.detach().cpu().numpy().ravel())\n",
        "\n",
        "    accuracy_ones = 100 * correct_ones / total_ones if total_ones != 0 else 0\n",
        "    # f1 = f1_score(all_targets, all_predictions)\n",
        "    # precision = precision_score(all_targets, all_predictions)\n",
        "    # recall = recall_score(all_targets, all_predictions)\n",
        "    return total_loss / len(dataloader), accuracy_ones\n"
      ],
      "metadata": {
        "execution": {
          "iopub.status.busy": "2023-09-28T10:53:36.600618Z",
          "iopub.execute_input": "2023-09-28T10:53:36.601333Z",
          "iopub.status.idle": "2023-09-28T10:53:36.622753Z",
          "shell.execute_reply.started": "2023-09-28T10:53:36.601298Z",
          "shell.execute_reply": "2023-09-28T10:53:36.621712Z"
        },
        "trusted": true,
        "id": "q38B3XN5d7Ue"
      },
      "execution_count": null,
      "outputs": []
    },
    {
      "cell_type": "code",
      "source": [
        "for epoch in range(epochs):\n",
        "    print(f'EPOCH: {epoch+1}')\n",
        "    train_loss, train_acc = train_model(model, train_dataloader, optimizer, criterion, device) #criterion\n",
        "    print(f'TRAIN-- Loss: {train_loss:.4f}, Accuracy: {train_acc:.2f}%')\n",
        "    # valid_loss, valid_acc = test_model(model, valid_dataloader, criterion, device) #criterion\n",
        "    # print(f'VALID-- Loss: {valid_loss:.4f}, Accuracy: {valid_acc:.2f}%')"
      ],
      "metadata": {
        "execution": {
          "iopub.status.busy": "2023-09-28T10:18:17.642288Z",
          "iopub.execute_input": "2023-09-28T10:18:17.642652Z",
          "iopub.status.idle": "2023-09-28T10:48:42.742918Z",
          "shell.execute_reply.started": "2023-09-28T10:18:17.642617Z",
          "shell.execute_reply": "2023-09-28T10:48:42.741745Z"
        },
        "trusted": true,
        "colab": {
          "base_uri": "https://localhost:8080/",
          "height": 477
        },
        "id": "GER1kl_ed7Uf",
        "outputId": "c1e50b09-dbb7-454e-e2ef-98e0f59e0b6c"
      },
      "execution_count": null,
      "outputs": [
        {
          "output_type": "stream",
          "name": "stdout",
          "text": [
            "EPOCH: 1\n"
          ]
        },
        {
          "output_type": "stream",
          "name": "stderr",
          "text": [
            "100%|██████████| 4598/4598 [01:49<00:00, 42.05it/s]\n"
          ]
        },
        {
          "output_type": "stream",
          "name": "stdout",
          "text": [
            "TRAIN-- Loss: 0.0163, Accuracy: 87.35%\n",
            "EPOCH: 2\n"
          ]
        },
        {
          "output_type": "stream",
          "name": "stderr",
          "text": [
            "  4%|▎         | 165/4598 [00:03<01:45, 41.95it/s]\n"
          ]
        },
        {
          "output_type": "error",
          "ename": "KeyboardInterrupt",
          "evalue": "ignored",
          "traceback": [
            "\u001b[0;31m---------------------------------------------------------------------------\u001b[0m",
            "\u001b[0;31mKeyboardInterrupt\u001b[0m                         Traceback (most recent call last)",
            "\u001b[0;32m<ipython-input-19-a22b03e54002>\u001b[0m in \u001b[0;36m<cell line: 1>\u001b[0;34m()\u001b[0m\n\u001b[1;32m      1\u001b[0m \u001b[0;32mfor\u001b[0m \u001b[0mepoch\u001b[0m \u001b[0;32min\u001b[0m \u001b[0mrange\u001b[0m\u001b[0;34m(\u001b[0m\u001b[0mepochs\u001b[0m\u001b[0;34m+\u001b[0m\u001b[0;36m1\u001b[0m\u001b[0;34m)\u001b[0m\u001b[0;34m:\u001b[0m\u001b[0;34m\u001b[0m\u001b[0;34m\u001b[0m\u001b[0m\n\u001b[1;32m      2\u001b[0m     \u001b[0mprint\u001b[0m\u001b[0;34m(\u001b[0m\u001b[0;34mf'EPOCH: {epoch+1}'\u001b[0m\u001b[0;34m)\u001b[0m\u001b[0;34m\u001b[0m\u001b[0;34m\u001b[0m\u001b[0m\n\u001b[0;32m----> 3\u001b[0;31m     \u001b[0mtrain_loss\u001b[0m\u001b[0;34m,\u001b[0m \u001b[0mtrain_acc\u001b[0m \u001b[0;34m=\u001b[0m \u001b[0mtrain_model\u001b[0m\u001b[0;34m(\u001b[0m\u001b[0mmodel\u001b[0m\u001b[0;34m,\u001b[0m \u001b[0mtrain_dataloader\u001b[0m\u001b[0;34m,\u001b[0m \u001b[0moptimizer\u001b[0m\u001b[0;34m,\u001b[0m \u001b[0mcriterion\u001b[0m\u001b[0;34m,\u001b[0m \u001b[0mdevice\u001b[0m\u001b[0;34m)\u001b[0m \u001b[0;31m#criterion\u001b[0m\u001b[0;34m\u001b[0m\u001b[0;34m\u001b[0m\u001b[0m\n\u001b[0m\u001b[1;32m      4\u001b[0m     \u001b[0mprint\u001b[0m\u001b[0;34m(\u001b[0m\u001b[0;34mf'TRAIN-- Loss: {train_loss:.4f}, Accuracy: {train_acc:.2f}%'\u001b[0m\u001b[0;34m)\u001b[0m\u001b[0;34m\u001b[0m\u001b[0;34m\u001b[0m\u001b[0m\n\u001b[1;32m      5\u001b[0m     \u001b[0;31m# valid_loss, valid_acc = test_model(model, valid_dataloader, criterion, device) #criterion\u001b[0m\u001b[0;34m\u001b[0m\u001b[0;34m\u001b[0m\u001b[0m\n",
            "\u001b[0;32m<ipython-input-18-a67899ff5363>\u001b[0m in \u001b[0;36mtrain_model\u001b[0;34m(model, dataloader, optimizer, criterion, device)\u001b[0m\n\u001b[1;32m     23\u001b[0m         \u001b[0moutputs\u001b[0m \u001b[0;34m=\u001b[0m \u001b[0mmodel\u001b[0m\u001b[0;34m(\u001b[0m\u001b[0minputs\u001b[0m\u001b[0;34m)\u001b[0m\u001b[0;34m.\u001b[0m\u001b[0msqueeze\u001b[0m\u001b[0;34m(\u001b[0m\u001b[0;36m2\u001b[0m\u001b[0;34m)\u001b[0m\u001b[0;34m\u001b[0m\u001b[0;34m\u001b[0m\u001b[0m\n\u001b[1;32m     24\u001b[0m         \u001b[0mloss\u001b[0m \u001b[0;34m=\u001b[0m \u001b[0mcriterion\u001b[0m\u001b[0;34m(\u001b[0m\u001b[0moutputs\u001b[0m\u001b[0;34m,\u001b[0m \u001b[0mtargets\u001b[0m\u001b[0;34m.\u001b[0m\u001b[0mfloat\u001b[0m\u001b[0;34m(\u001b[0m\u001b[0;34m)\u001b[0m\u001b[0;34m)\u001b[0m\u001b[0;34m\u001b[0m\u001b[0;34m\u001b[0m\u001b[0m\n\u001b[0;32m---> 25\u001b[0;31m         \u001b[0mloss\u001b[0m\u001b[0;34m.\u001b[0m\u001b[0mbackward\u001b[0m\u001b[0;34m(\u001b[0m\u001b[0;34m)\u001b[0m\u001b[0;34m\u001b[0m\u001b[0;34m\u001b[0m\u001b[0m\n\u001b[0m\u001b[1;32m     26\u001b[0m \u001b[0;34m\u001b[0m\u001b[0m\n\u001b[1;32m     27\u001b[0m         \u001b[0moptimizer\u001b[0m\u001b[0;34m.\u001b[0m\u001b[0mstep\u001b[0m\u001b[0;34m(\u001b[0m\u001b[0;34m)\u001b[0m\u001b[0;34m\u001b[0m\u001b[0;34m\u001b[0m\u001b[0m\n",
            "\u001b[0;32m/usr/local/lib/python3.10/dist-packages/torch/_tensor.py\u001b[0m in \u001b[0;36mbackward\u001b[0;34m(self, gradient, retain_graph, create_graph, inputs)\u001b[0m\n\u001b[1;32m    485\u001b[0m                 \u001b[0minputs\u001b[0m\u001b[0;34m=\u001b[0m\u001b[0minputs\u001b[0m\u001b[0;34m,\u001b[0m\u001b[0;34m\u001b[0m\u001b[0;34m\u001b[0m\u001b[0m\n\u001b[1;32m    486\u001b[0m             )\n\u001b[0;32m--> 487\u001b[0;31m         torch.autograd.backward(\n\u001b[0m\u001b[1;32m    488\u001b[0m             \u001b[0mself\u001b[0m\u001b[0;34m,\u001b[0m \u001b[0mgradient\u001b[0m\u001b[0;34m,\u001b[0m \u001b[0mretain_graph\u001b[0m\u001b[0;34m,\u001b[0m \u001b[0mcreate_graph\u001b[0m\u001b[0;34m,\u001b[0m \u001b[0minputs\u001b[0m\u001b[0;34m=\u001b[0m\u001b[0minputs\u001b[0m\u001b[0;34m\u001b[0m\u001b[0;34m\u001b[0m\u001b[0m\n\u001b[1;32m    489\u001b[0m         )\n",
            "\u001b[0;32m/usr/local/lib/python3.10/dist-packages/torch/autograd/__init__.py\u001b[0m in \u001b[0;36mbackward\u001b[0;34m(tensors, grad_tensors, retain_graph, create_graph, grad_variables, inputs)\u001b[0m\n\u001b[1;32m    198\u001b[0m     \u001b[0;31m# some Python versions print out the first line of a multi-line function\u001b[0m\u001b[0;34m\u001b[0m\u001b[0;34m\u001b[0m\u001b[0m\n\u001b[1;32m    199\u001b[0m     \u001b[0;31m# calls in the traceback and some print out the last line\u001b[0m\u001b[0;34m\u001b[0m\u001b[0;34m\u001b[0m\u001b[0m\n\u001b[0;32m--> 200\u001b[0;31m     Variable._execution_engine.run_backward(  # Calls into the C++ engine to run the backward pass\n\u001b[0m\u001b[1;32m    201\u001b[0m         \u001b[0mtensors\u001b[0m\u001b[0;34m,\u001b[0m \u001b[0mgrad_tensors_\u001b[0m\u001b[0;34m,\u001b[0m \u001b[0mretain_graph\u001b[0m\u001b[0;34m,\u001b[0m \u001b[0mcreate_graph\u001b[0m\u001b[0;34m,\u001b[0m \u001b[0minputs\u001b[0m\u001b[0;34m,\u001b[0m\u001b[0;34m\u001b[0m\u001b[0;34m\u001b[0m\u001b[0m\n\u001b[1;32m    202\u001b[0m         allow_unreachable=True, accumulate_grad=True)  # Calls into the C++ engine to run the backward pass\n",
            "\u001b[0;31mKeyboardInterrupt\u001b[0m: "
          ]
        }
      ]
    },
    {
      "cell_type": "code",
      "source": [
        "torch.save(model, '/content/sample_data/best_model(70-110).pth')"
      ],
      "metadata": {
        "execution": {
          "iopub.status.busy": "2023-09-28T10:48:47.096478Z",
          "iopub.execute_input": "2023-09-28T10:48:47.096826Z",
          "iopub.status.idle": "2023-09-28T10:48:47.116495Z",
          "shell.execute_reply.started": "2023-09-28T10:48:47.096798Z",
          "shell.execute_reply": "2023-09-28T10:48:47.115140Z"
        },
        "trusted": true,
        "id": "QnwpJmqld7Ug"
      },
      "execution_count": null,
      "outputs": []
    },
    {
      "cell_type": "markdown",
      "source": [
        "# embedding_dim=70, hidden_dim=110, epochs=9\n",
        "\n",
        "EPOCH: 1\n",
        "100%|██████████| 4598/4598 [01:47<00:00, 42.95it/s]\n",
        "TRAIN-- Loss: 0.0166, Accuracy: 87.14%, F1: 0.8714, Precision: 0.8714, Recall: 0.8714\n",
        "EPOCH: 2\n",
        "100%|██████████| 4598/4598 [01:50<00:00, 41.43it/s]\n",
        "TRAIN-- Loss: 0.0074, Accuracy: 94.74%, F1: 0.9474, Precision: 0.9474, Recall: 0.9474\n",
        "EPOCH: 3\n",
        "100%|██████████| 4598/4598 [01:46<00:00, 43.09it/s]\n",
        "TRAIN-- Loss: 0.0049, Accuracy: 96.75%, F1: 0.9675, Precision: 0.9675, Recall: 0.9675\n",
        "EPOCH: 4\n",
        "100%|██████████| 4598/4598 [01:45<00:00, 43.45it/s]\n",
        "TRAIN-- Loss: 0.0038, Accuracy: 97.58%, F1: 0.9758, Precision: 0.9758, Recall: 0.9758\n",
        "EPOCH: 5\n",
        "100%|██████████| 4598/4598 [01:46<00:00, 43.35it/s]\n",
        "TRAIN-- Loss: 0.0027, Accuracy: 98.36%, F1: 0.9836, Precision: 0.9836, Recall: 0.9836\n",
        "EPOCH: 6\n",
        "100%|██████████| 4598/4598 [01:46<00:00, 43.20it/s]\n",
        "TRAIN-- Loss: 0.0022, Accuracy: 98.72%, F1: 0.9872, Precision: 0.9872, Recall: 0.9872\n",
        "EPOCH: 7\n",
        "100%|██████████| 4598/4598 [01:46<00:00, 43.34it/s]\n",
        "TRAIN-- Loss: 0.0016, Accuracy: 99.12%, F1: 0.9912, Precision: 0.9912, Recall: 0.9912\n",
        "EPOCH: 8\n",
        "100%|██████████| 4598/4598 [01:46<00:00, 43.24it/s]\n",
        "TRAIN-- Loss: 0.0013, Accuracy: 99.30%, F1: 0.9930, Precision: 0.9930, Recall: 0.9930\n",
        "EPOCH: 9\n",
        "100%|██████████| 4598/4598 [01:46<00:00, 43.30it/s]\n",
        "TRAIN-- Loss: 0.0009, Accuracy: 99.54%, F1: 0.9954, Precision: 0.9954, Recall: 0.9954\n"
      ],
      "metadata": {
        "id": "7QC_sab-Pm6O"
      }
    }
  ]
}